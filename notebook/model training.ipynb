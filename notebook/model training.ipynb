{
 "cells": [
  {
   "cell_type": "code",
   "execution_count": 4,
   "metadata": {},
   "outputs": [],
   "source": [
    "## Basic imports \n",
    "import pandas as pd\n",
    "import numpy as np\n",
    "import seaborn as sns\n",
    "import matplotlib.pyplot as plt\n",
    "import warnings\n",
    "warnings.filterwarnings('ignore')\n",
    "##modelling import\n",
    "from sklearn.linear_model import LogisticRegression\n",
    "from sklearn.metrics import confusion_matrix\n",
    "from sklearn.metrics import accuracy_score\n",
    "from sklearn.tree import DecisionTreeClassifier\n",
    "from sklearn.ensemble import RandomForestClassifier\n",
    " ##Pipeline imports\n",
    "from sklearn.compose import ColumnTransformer\n",
    "from sklearn.impute import SimpleImputer\n",
    "from sklearn.pipeline import Pipeline\n",
    "from sklearn.preprocessing import OneHotEncoder, StandardScaler, OrdinalEncoder\n"
   ]
  },
  {
   "cell_type": "markdown",
   "metadata": {},
   "source": [
    "## Read Dataset as DataFrame"
   ]
  },
  {
   "cell_type": "code",
   "execution_count": 5,
   "metadata": {},
   "outputs": [
    {
     "data": {
      "text/html": [
       "<div>\n",
       "<style scoped>\n",
       "    .dataframe tbody tr th:only-of-type {\n",
       "        vertical-align: middle;\n",
       "    }\n",
       "\n",
       "    .dataframe tbody tr th {\n",
       "        vertical-align: top;\n",
       "    }\n",
       "\n",
       "    .dataframe thead th {\n",
       "        text-align: right;\n",
       "    }\n",
       "</style>\n",
       "<table border=\"1\" class=\"dataframe\">\n",
       "  <thead>\n",
       "    <tr style=\"text-align: right;\">\n",
       "      <th></th>\n",
       "      <th>Age</th>\n",
       "      <th>Gender</th>\n",
       "      <th>Hypertension</th>\n",
       "      <th>Work Type</th>\n",
       "      <th>Average Glucose Level</th>\n",
       "      <th>Body Mass Index (BMI)</th>\n",
       "      <th>Smoking Status</th>\n",
       "      <th>Alcohol Intake</th>\n",
       "      <th>Physical Activity</th>\n",
       "      <th>Family History of Stroke</th>\n",
       "      <th>Dietary Habits</th>\n",
       "      <th>Stress Levels</th>\n",
       "      <th>Blood Pressure Levels</th>\n",
       "      <th>Cholesterol Levels</th>\n",
       "      <th>Symptoms</th>\n",
       "      <th>Diagnosis</th>\n",
       "    </tr>\n",
       "  </thead>\n",
       "  <tbody>\n",
       "    <tr>\n",
       "      <th>0</th>\n",
       "      <td>56</td>\n",
       "      <td>Male</td>\n",
       "      <td>0.0</td>\n",
       "      <td>Self-employed</td>\n",
       "      <td>130.91</td>\n",
       "      <td>22.37</td>\n",
       "      <td>Non-smoker</td>\n",
       "      <td>Social Drinker</td>\n",
       "      <td>Moderate</td>\n",
       "      <td>Yes</td>\n",
       "      <td>Vegan</td>\n",
       "      <td>3.48</td>\n",
       "      <td>140/108</td>\n",
       "      <td>HDL: 68, LDL: 133</td>\n",
       "      <td>Difficulty Speaking, Headache</td>\n",
       "      <td>Stroke</td>\n",
       "    </tr>\n",
       "    <tr>\n",
       "      <th>1</th>\n",
       "      <td>80</td>\n",
       "      <td>Male</td>\n",
       "      <td>0.0</td>\n",
       "      <td>Self-employed</td>\n",
       "      <td>183.73</td>\n",
       "      <td>32.57</td>\n",
       "      <td>Non-smoker</td>\n",
       "      <td>Never</td>\n",
       "      <td>Low</td>\n",
       "      <td>No</td>\n",
       "      <td>Paleo</td>\n",
       "      <td>1.73</td>\n",
       "      <td>146/91</td>\n",
       "      <td>HDL: 63, LDL: 70</td>\n",
       "      <td>Loss of Balance, Headache, Dizziness, Confusion</td>\n",
       "      <td>Stroke</td>\n",
       "    </tr>\n",
       "    <tr>\n",
       "      <th>2</th>\n",
       "      <td>26</td>\n",
       "      <td>Male</td>\n",
       "      <td>0.0</td>\n",
       "      <td>Never Worked</td>\n",
       "      <td>189.00</td>\n",
       "      <td>20.32</td>\n",
       "      <td>Formerly Smoked</td>\n",
       "      <td>Rarely</td>\n",
       "      <td>High</td>\n",
       "      <td>Yes</td>\n",
       "      <td>Paleo</td>\n",
       "      <td>7.31</td>\n",
       "      <td>154/97</td>\n",
       "      <td>HDL: 59, LDL: 95</td>\n",
       "      <td>Seizures, Dizziness</td>\n",
       "      <td>Stroke</td>\n",
       "    </tr>\n",
       "    <tr>\n",
       "      <th>3</th>\n",
       "      <td>73</td>\n",
       "      <td>Male</td>\n",
       "      <td>0.0</td>\n",
       "      <td>Never Worked</td>\n",
       "      <td>185.29</td>\n",
       "      <td>27.50</td>\n",
       "      <td>Non-smoker</td>\n",
       "      <td>Frequent Drinker</td>\n",
       "      <td>Moderate</td>\n",
       "      <td>No</td>\n",
       "      <td>Paleo</td>\n",
       "      <td>5.35</td>\n",
       "      <td>174/81</td>\n",
       "      <td>HDL: 70, LDL: 137</td>\n",
       "      <td>Seizures, Blurred Vision, Severe Fatigue, Head...</td>\n",
       "      <td>No Stroke</td>\n",
       "    </tr>\n",
       "    <tr>\n",
       "      <th>4</th>\n",
       "      <td>51</td>\n",
       "      <td>Male</td>\n",
       "      <td>0.0</td>\n",
       "      <td>Self-employed</td>\n",
       "      <td>177.34</td>\n",
       "      <td>29.06</td>\n",
       "      <td>Currently Smokes</td>\n",
       "      <td>Rarely</td>\n",
       "      <td>Low</td>\n",
       "      <td>Yes</td>\n",
       "      <td>Pescatarian</td>\n",
       "      <td>6.84</td>\n",
       "      <td>121/95</td>\n",
       "      <td>HDL: 65, LDL: 68</td>\n",
       "      <td>Difficulty Speaking</td>\n",
       "      <td>Stroke</td>\n",
       "    </tr>\n",
       "  </tbody>\n",
       "</table>\n",
       "</div>"
      ],
      "text/plain": [
       "   Age Gender  Hypertension      Work Type  Average Glucose Level  \\\n",
       "0   56   Male           0.0  Self-employed                 130.91   \n",
       "1   80   Male           0.0  Self-employed                 183.73   \n",
       "2   26   Male           0.0   Never Worked                 189.00   \n",
       "3   73   Male           0.0   Never Worked                 185.29   \n",
       "4   51   Male           0.0  Self-employed                 177.34   \n",
       "\n",
       "   Body Mass Index (BMI)    Smoking Status    Alcohol Intake  \\\n",
       "0                  22.37        Non-smoker    Social Drinker   \n",
       "1                  32.57        Non-smoker             Never   \n",
       "2                  20.32   Formerly Smoked            Rarely   \n",
       "3                  27.50        Non-smoker  Frequent Drinker   \n",
       "4                  29.06  Currently Smokes            Rarely   \n",
       "\n",
       "  Physical Activity Family History of Stroke Dietary Habits  Stress Levels  \\\n",
       "0          Moderate                      Yes          Vegan           3.48   \n",
       "1               Low                       No          Paleo           1.73   \n",
       "2              High                      Yes          Paleo           7.31   \n",
       "3          Moderate                       No          Paleo           5.35   \n",
       "4               Low                      Yes    Pescatarian           6.84   \n",
       "\n",
       "  Blood Pressure Levels Cholesterol Levels  \\\n",
       "0               140/108  HDL: 68, LDL: 133   \n",
       "1                146/91   HDL: 63, LDL: 70   \n",
       "2                154/97   HDL: 59, LDL: 95   \n",
       "3                174/81  HDL: 70, LDL: 137   \n",
       "4                121/95   HDL: 65, LDL: 68   \n",
       "\n",
       "                                            Symptoms  Diagnosis  \n",
       "0                      Difficulty Speaking, Headache     Stroke  \n",
       "1    Loss of Balance, Headache, Dizziness, Confusion     Stroke  \n",
       "2                                Seizures, Dizziness     Stroke  \n",
       "3  Seizures, Blurred Vision, Severe Fatigue, Head...  No Stroke  \n",
       "4                                Difficulty Speaking     Stroke  "
      ]
     },
     "execution_count": 5,
     "metadata": {},
     "output_type": "execute_result"
    }
   ],
   "source": [
    "df=pd.read_csv('cleaned_data.csv')\n",
    "df.head()"
   ]
  },
  {
   "cell_type": "code",
   "execution_count": 6,
   "metadata": {},
   "outputs": [
    {
     "data": {
      "text/plain": [
       "Diagnosis\n",
       "No Stroke    7532\n",
       "Stroke       7468\n",
       "Name: count, dtype: int64"
      ]
     },
     "execution_count": 6,
     "metadata": {},
     "output_type": "execute_result"
    }
   ],
   "source": [
    "df.Diagnosis.value_counts()"
   ]
  },
  {
   "cell_type": "code",
   "execution_count": 7,
   "metadata": {},
   "outputs": [
    {
     "data": {
      "text/plain": [
       "Diagnosis\n",
       "No Stroke    50.213333\n",
       "Stroke       49.786667\n",
       "Name: proportion, dtype: float64"
      ]
     },
     "execution_count": 7,
     "metadata": {},
     "output_type": "execute_result"
    }
   ],
   "source": [
    "df.Diagnosis.value_counts(normalize=True)*100"
   ]
  },
  {
   "cell_type": "code",
   "execution_count": 8,
   "metadata": {},
   "outputs": [],
   "source": [
    "df.Diagnosis = (df.Diagnosis.str.strip().str.lower() == 'stroke').astype(int)"
   ]
  },
  {
   "cell_type": "markdown",
   "metadata": {},
   "source": [
    "## Split the dataset"
   ]
  },
  {
   "cell_type": "code",
   "execution_count": 9,
   "metadata": {},
   "outputs": [],
   "source": [
    "X=df.drop('Diagnosis',axis=1)\n",
    "y=df[['Diagnosis']]"
   ]
  },
  {
   "cell_type": "code",
   "execution_count": 10,
   "metadata": {},
   "outputs": [
    {
     "data": {
      "text/plain": [
       "Diagnosis\n",
       "0            7532\n",
       "1            7468\n",
       "Name: count, dtype: int64"
      ]
     },
     "execution_count": 10,
     "metadata": {},
     "output_type": "execute_result"
    }
   ],
   "source": [
    "y.value_counts()"
   ]
  },
  {
   "cell_type": "markdown",
   "metadata": {},
   "source": [
    "## split the dataset into train_test_split"
   ]
  },
  {
   "cell_type": "code",
   "execution_count": 11,
   "metadata": {},
   "outputs": [],
   "source": [
    "\n",
    "from sklearn.model_selection import train_test_split\n",
    "X_train, X_test, y_train, y_test = train_test_split(X, y, test_size=0.2, random_state=42)\n"
   ]
  },
  {
   "cell_type": "markdown",
   "metadata": {},
   "source": [
    "## define numeric and cateorical columns"
   ]
  },
  {
   "cell_type": "code",
   "execution_count": 12,
   "metadata": {},
   "outputs": [
    {
     "data": {
      "text/plain": [
       "Index(['Age', 'Hypertension', 'Average Glucose Level', 'Body Mass Index (BMI)',\n",
       "       'Stress Levels'],\n",
       "      dtype='object')"
      ]
     },
     "execution_count": 12,
     "metadata": {},
     "output_type": "execute_result"
    }
   ],
   "source": [
    "numerical_columns=X.select_dtypes(exclude='object').columns\n",
    "numerical_columns"
   ]
  },
  {
   "cell_type": "code",
   "execution_count": 13,
   "metadata": {},
   "outputs": [
    {
     "data": {
      "text/plain": [
       "Index(['Gender', 'Work Type', 'Smoking Status', 'Alcohol Intake',\n",
       "       'Physical Activity', 'Family History of Stroke', 'Dietary Habits',\n",
       "       'Blood Pressure Levels', 'Cholesterol Levels', 'Symptoms'],\n",
       "      dtype='object')"
      ]
     },
     "execution_count": 13,
     "metadata": {},
     "output_type": "execute_result"
    }
   ],
   "source": [
    "categorical_columns=X.select_dtypes(include='object').columns\n",
    "categorical_columns\n",
    "\n"
   ]
  },
  {
   "cell_type": "markdown",
   "metadata": {},
   "source": [
    "## Creating the Preprocessing Pipeline"
   ]
  },
  {
   "cell_type": "code",
   "execution_count": 14,
   "metadata": {},
   "outputs": [],
   "source": [
    "num_pipeline=Pipeline(\n",
    "    steps=[\n",
    "        ('scaler',StandardScaler()),\n",
    "        ('imputer',SimpleImputer(strategy='median'))\n",
    "    ]\n",
    ")\n",
    "cat_pipeline=Pipeline(\n",
    "    steps=[\n",
    "        ('imputer',SimpleImputer(strategy='most_frequent')),\n",
    "        ('onehot',OneHotEncoder(handle_unknown='ignore',sparse_output=False))\n",
    "        \n",
    "    ]\n",
    ")\n",
    "\n",
    "preprocessor=ColumnTransformer(\n",
    "    [\n",
    "        ('num_pipeline',num_pipeline,numerical_columns),\n",
    "        ('categorical_columns',cat_pipeline,categorical_columns)\n",
    "    ]\n",
    ")"
   ]
  },
  {
   "cell_type": "code",
   "execution_count": 15,
   "metadata": {},
   "outputs": [
    {
     "data": {
      "text/plain": [
       "array([[ 0.14127454,  0.        ,  0.63758318, ...,  0.        ,\n",
       "         0.        ,  0.        ],\n",
       "       [ 0.23630759,  0.        ,  1.4852178 , ...,  0.        ,\n",
       "         0.        ,  0.        ],\n",
       "       [-0.52395678,  0.        , -0.36304157, ...,  0.        ,\n",
       "         0.        ,  0.        ],\n",
       "       ...,\n",
       "       [-0.38140721,  0.        ,  1.46467058, ...,  0.        ,\n",
       "         0.        ,  0.        ],\n",
       "       [-1.47428724,  0.        , -1.14606386, ...,  0.        ,\n",
       "         0.        ,  0.        ],\n",
       "       [ 0.33134063,  0.        , -1.10422675, ...,  0.        ,\n",
       "         0.        ,  0.        ]])"
      ]
     },
     "execution_count": 15,
     "metadata": {},
     "output_type": "execute_result"
    }
   ],
   "source": [
    "X_train=preprocessor.fit_transform(X_train)\n",
    "X_train"
   ]
  },
  {
   "cell_type": "code",
   "execution_count": 16,
   "metadata": {},
   "outputs": [
    {
     "data": {
      "text/plain": [
       "array([[ 0.80650586,  0.        ,  0.27491241, ...,  0.        ,\n",
       "         0.        ,  0.        ],\n",
       "       [-0.95160548,  0.        , -1.44461741, ...,  0.        ,\n",
       "         0.        ,  1.        ],\n",
       "       [ 1.7093198 ,  0.        ,  1.66345873, ...,  0.        ,\n",
       "         0.        ,  0.        ],\n",
       "       ...,\n",
       "       [-0.90408896,  0.        ,  1.35747847, ...,  0.        ,\n",
       "         0.        ,  0.        ],\n",
       "       [ 0.14127454,  0.        , -1.70975078, ...,  0.        ,\n",
       "         0.        ,  0.        ],\n",
       "       [-0.42892373,  0.        , -0.58212937, ...,  0.        ,\n",
       "         0.        ,  0.        ]])"
      ]
     },
     "execution_count": 16,
     "metadata": {},
     "output_type": "execute_result"
    }
   ],
   "source": [
    "X_test=preprocessor.transform(X_test)\n",
    "X_test"
   ]
  },
  {
   "cell_type": "markdown",
   "metadata": {},
   "source": [
    "## Training the Logistic Regression"
   ]
  },
  {
   "cell_type": "code",
   "execution_count": 17,
   "metadata": {},
   "outputs": [
    {
     "data": {
      "text/plain": [
       "0.4903"
      ]
     },
     "execution_count": 17,
     "metadata": {},
     "output_type": "execute_result"
    }
   ],
   "source": [
    "\n",
    "model=LogisticRegression(solver='liblinear')\n",
    "model.fit(X_train,y_train)\n",
    "y_pred=model.predict(X_test)\n",
    "acc=accuracy_score(y_test,y_pred)\n",
    "acc=round(acc,4)\n",
    "acc"
   ]
  },
  {
   "cell_type": "markdown",
   "metadata": {},
   "source": [
    "## Performance metrics of logistic regression"
   ]
  },
  {
   "cell_type": "code",
   "execution_count": 18,
   "metadata": {},
   "outputs": [
    {
     "data": {
      "text/plain": [
       "np.float64(0.48877619920351667)"
      ]
     },
     "execution_count": 18,
     "metadata": {},
     "output_type": "execute_result"
    }
   ],
   "source": [
    "from sklearn.metrics import roc_auc_score\n",
    "y_pred=model.predict_proba(X_test)[:,1]\n",
    "auc=roc_auc_score(y_test,y_pred)\n",
    "auc\n"
   ]
  },
  {
   "cell_type": "markdown",
   "metadata": {},
   "source": [
    "## Performance on train dataset"
   ]
  },
  {
   "cell_type": "code",
   "execution_count": 19,
   "metadata": {},
   "outputs": [
    {
     "data": {
      "text/plain": [
       "0.9403333333333334"
      ]
     },
     "execution_count": 19,
     "metadata": {},
     "output_type": "execute_result"
    }
   ],
   "source": [
    "y_pred_train=model.predict(X_train)\n",
    "acc_train=accuracy_score(y_train,y_pred_train)\n",
    "acc_train\n"
   ]
  },
  {
   "cell_type": "markdown",
   "metadata": {},
   "source": [
    "# Check for overfitting and underfitting"
   ]
  },
  {
   "cell_type": "code",
   "execution_count": 20,
   "metadata": {},
   "outputs": [
    {
     "name": "stdout",
     "output_type": "stream",
     "text": [
      "testing accuracy score:0.4903\n",
      "training accuracy score:0.9403\n"
     ]
    }
   ],
   "source": [
    "print(f'testing accuracy score:{acc}')\n",
    "print(f'training accuracy score:{round(acc_train,4)}')\n",
    "\n"
   ]
  },
  {
   "cell_type": "markdown",
   "metadata": {},
   "source": [
    "## let me tune the C values since the default value is always 1"
   ]
  },
  {
   "cell_type": "code",
   "execution_count": 21,
   "metadata": {},
   "outputs": [
    {
     "data": {
      "text/plain": [
       "0.4863"
      ]
     },
     "execution_count": 21,
     "metadata": {},
     "output_type": "execute_result"
    }
   ],
   "source": [
    "model=LogisticRegression(C=100,solver='liblinear')\n",
    "model.fit(X_train,y_train)\n",
    "y_pred=model.predict(X_test)\n",
    "acc=accuracy_score(y_test,y_pred)\n",
    "acc=round(acc,4)\n",
    "acc"
   ]
  },
  {
   "cell_type": "markdown",
   "metadata": {},
   "source": [
    "# Compare model accuracy with null accuracy"
   ]
  },
  {
   "cell_type": "code",
   "execution_count": 22,
   "metadata": {},
   "outputs": [
    {
     "data": {
      "text/plain": [
       "Diagnosis\n",
       "0    7532\n",
       "1    7468\n",
       "Name: count, dtype: int64"
      ]
     },
     "execution_count": 22,
     "metadata": {},
     "output_type": "execute_result"
    }
   ],
   "source": [
    "df.Diagnosis.value_counts()"
   ]
  },
  {
   "cell_type": "code",
   "execution_count": 23,
   "metadata": {},
   "outputs": [
    {
     "data": {
      "text/plain": [
       "0.5021"
      ]
     },
     "execution_count": 23,
     "metadata": {},
     "output_type": "execute_result"
    }
   ],
   "source": [
    "null_accuracy=7532/(7532+7468)\n",
    "round(null_accuracy,4)"
   ]
  },
  {
   "cell_type": "markdown",
   "metadata": {},
   "source": [
    "## We can see that our model accuracy score is 0.5113 but null accuracy score is 0.5021. So, we can conclude that our Logistic Regression model is doing a very good job in predicting the class labels.\n",
    "\n",
    "Now, based on the above analysis we can conclude that our classification model accuracy is very good. Our model is doing a very good job in terms of predicting the class labels.\n",
    "\n",
    "But, it does not give the underlying distribution of values. Also, it does not tell anything about the type of errors our classifer is making.\n",
    "\n",
    "We have another tool called Confusion matrix that comes to our rescue."
   ]
  },
  {
   "cell_type": "code",
   "execution_count": 24,
   "metadata": {},
   "outputs": [
    {
     "data": {
      "text/plain": [
       "array([[711, 770],\n",
       "       [771, 748]])"
      ]
     },
     "execution_count": 24,
     "metadata": {},
     "output_type": "execute_result"
    }
   ],
   "source": [
    "from sklearn.metrics import confusion_matrix\n",
    "cm=confusion_matrix(y_test,y_pred)\n",
    "cm"
   ]
  },
  {
   "cell_type": "code",
   "execution_count": 25,
   "metadata": {},
   "outputs": [],
   "source": [
    "TP=878\n",
    "TN=642\n",
    "FP=603\n",
    "FN=877"
   ]
  },
  {
   "cell_type": "markdown",
   "metadata": {},
   "source": [
    "# Decision Trees\n",
    "First we are going to get the default model performance and then we are going to tune it using the following parameters:\n",
    "\n",
    "- max_depth\n",
    "- min_samples_leaf"
   ]
  },
  {
   "cell_type": "code",
   "execution_count": 26,
   "metadata": {},
   "outputs": [
    {
     "name": "stdout",
     "output_type": "stream",
     "text": [
      "accuracy score decision tree :0.5125\n"
     ]
    }
   ],
   "source": [
    "\n",
    "dt=DecisionTreeClassifier()\n",
    "dt.fit(X_train,y_train)\n",
    "y_pred=dt.predict_proba(X_test)[:,1]\n",
    "auc=roc_auc_score(y_test,y_pred)\n",
    "print(f'accuracy score decision tree :{round(auc,4)}')"
   ]
  },
  {
   "cell_type": "markdown",
   "metadata": {},
   "source": [
    "## let me tune the max_depth"
   ]
  },
  {
   "cell_type": "code",
   "execution_count": 27,
   "metadata": {},
   "outputs": [
    {
     "name": "stdout",
     "output_type": "stream",
     "text": [
      "2 0.5000506747971564\n",
      "3 0.5000506747971564\n",
      "4 0.49112746533999463\n",
      "5 0.4907791872384858\n",
      "6 0.49159265108757444\n"
     ]
    }
   ],
   "source": [
    "depths = [2, 3, 4, 5, 6]\n",
    "for d in depths:\n",
    "    dt=DecisionTreeClassifier(max_depth=d,random_state=1)\n",
    "    dt.fit(X_train,y_train)\n",
    "    y_pred=dt.predict_proba(X_test)[:,0]\n",
    "    score=roc_auc_score(y_test,y_pred)\n",
    "    print(d,score)\n",
    "    "
   ]
  },
  {
   "cell_type": "markdown",
   "metadata": {},
   "source": [
    "## let me tune the min_leaf"
   ]
  },
  {
   "cell_type": "code",
   "execution_count": 28,
   "metadata": {},
   "outputs": [],
   "source": [
    "depths = [2,3,4]\n",
    "sample_leafs = [1, 2, 5, 10, 15, 20, 100, 200, 500]\n",
    "scores=[]\n",
    "for d in depths:\n",
    "    for s in sample_leafs:\n",
    "        dt=DecisionTreeClassifier(max_depth=d,min_samples_leaf=s)\n",
    "        dt.fit(X_train,y_train)\n",
    "        y_pred=dt.predict_proba(X_test)[:,1]\n",
    "        score=roc_auc_score(y_test,y_pred)\n",
    "        scores.append((d,s,round(score,4)))"
   ]
  },
  {
   "cell_type": "code",
   "execution_count": 29,
   "metadata": {},
   "outputs": [
    {
     "data": {
      "text/plain": [
       "<Axes: xlabel='depth', ylabel='leaf'>"
      ]
     },
     "execution_count": 29,
     "metadata": {},
     "output_type": "execute_result"
    },
    {
     "data": {
      "image/png": "[encoded data removed]",
      "text/plain": [
       "<Figure size 640x480 with 2 Axes>"
      ]
     },
     "metadata": {},
     "output_type": "display_data"
    }
   ],
   "source": [
    "df_scores=pd.DataFrame(scores,columns=['depth','leaf','score'])\n",
    "sns.heatmap(df_scores.pivot(index='leaf',columns='depth',values='score'),fmt='.3f',annot=True)"
   ]
  },
  {
   "cell_type": "markdown",
   "metadata": {},
   "source": [
    "## Random Forest\n",
    "As we did with the Decision Tree model, we are going to try the Random Forest model with default parameters and tune it using:\n",
    "\n",
    "- n_estimators\n",
    "- max_depth\n",
    "- min_sample_leaf"
   ]
  },
  {
   "cell_type": "code",
   "execution_count": 30,
   "metadata": {},
   "outputs": [
    {
     "name": "stdout",
     "output_type": "stream",
     "text": [
      "Auc \n"
     ]
    }
   ],
   "source": [
    "from sklearn.ensemble import RandomForestClassifier\n",
    "rf=RandomForestClassifier(n_estimators=10)\n",
    "rf.fit(X_train,y_train)\n",
    "y_pred=rf.predict_proba(X_test)[:,1]\n",
    "score=roc_auc_score(y_test,y_pred)\n",
    "print(f'Auc ')"
   ]
  },
  {
   "cell_type": "markdown",
   "metadata": {},
   "source": [
    "## Now we can try with different n_estimators values to see the best choice"
   ]
  },
  {
   "cell_type": "code",
   "execution_count": null,
   "metadata": {},
   "outputs": [],
   "source": [
    "scores=[]\n",
    "for e in range(10,201,10):\n",
    "    rf=RandomForestClassifier(n_estimators=e,n_jobs=-1)\n",
    "    rf.fit(X_train,y_train)\n",
    "    y_pred=rf.predict_proba(X_test)[:,1]\n",
    "    auc=roc_auc_score(y_test,y_pred)\n",
    "    scores.append((e,round(auc,2)))\n",
    "    "
   ]
  },
  {
   "cell_type": "code",
   "execution_count": null,
   "metadata": {},
   "outputs": [],
   "source": [
    "df_scores=pd.DataFrame(scores,columns=['n_estimatores','auc'])\n",
    "df_scores"
   ]
  },
  {
   "cell_type": "code",
   "execution_count": null,
   "metadata": {},
   "outputs": [],
   "source": [
    "plt.plot(df_scores.n_estimatores,df_scores.auc)"
   ]
  },
  {
   "cell_type": "markdown",
   "metadata": {},
   "source": [
    "## Looking at the results table and the chart we see that a n_estimator=50 would be ideal, since after that there is no real considerable impact over the auc score.\n",
    "\n",
    "- Now we can tune the max_depth parameter"
   ]
  },
  {
   "cell_type": "code",
   "execution_count": null,
   "metadata": {},
   "outputs": [],
   "source": [
    "scores = []\n",
    "\n",
    "for d in [5, 6, 7, 10, 15]:\n",
    "        for e in range(10, 201, 10):\n",
    "            rf = RandomForestClassifier(n_estimators=50, random_state=1, max_depth=d)\n",
    "            rf.fit(X_train, y_train)\n",
    "        \n",
    "            y_pred = rf.predict_proba(X_test)[:,1]\n",
    "            auc = roc_auc_score(y_test, y_pred)\n",
    "            scores.append((d,e,auc))\n",
    "\n",
    "df_scores = pd.DataFrame(scores, columns=['depth','n_estimators','auc'])\n",
    "df_scores"
   ]
  },
  {
   "cell_type": "code",
   "execution_count": null,
   "metadata": {},
   "outputs": [],
   "source": [
    "for d in [5, 6, 7, 10, 15]:\n",
    "    df_subset = df_scores[df_scores.depth == d]\n",
    "    plt.plot(df_subset.n_estimators, df_subset.auc, label=\"max_depth=%d\" % d)\n",
    "plt.legend()"
   ]
  },
  {
   "cell_type": "markdown",
   "metadata": {},
   "source": [
    "- Based on this result we clearly see that a max_depth=10 is the best option.\n",
    "\n",
    "- Final step: tune the min_sample_leaf parameter"
   ]
  },
  {
   "cell_type": "code",
   "execution_count": null,
   "metadata": {},
   "outputs": [],
   "source": [
    "scores = []\n",
    "\n",
    "for s in [1, 5, 10, 20, 50]:\n",
    "        for e in range(10, 201, 10):\n",
    "           rf = RandomForestClassifier(n_estimators=50, random_state=1, max_depth=10, min_samples_leaf=s)\n",
    "           rf.fit(X_train, y_train)\n",
    "        \n",
    "           y_pred = rf.predict_proba(X_test)[:,1]\n",
    "           auc = roc_auc_score(y_test, y_pred)\n",
    "           scores.append((s, e,auc))\n",
    "\n",
    "df_scores = pd.DataFrame(scores, columns=['sample_leaf','n_estimators','auc'])\n",
    "df_scores"
   ]
  },
  {
   "cell_type": "code",
   "execution_count": null,
   "metadata": {},
   "outputs": [],
   "source": [
    "for s in [1, 5, 10, 20, 50]:\n",
    "    df_subset = df_scores[df_scores.sample_leaf == s]\n",
    "    plt.plot(df_subset.n_estimators, df_subset.auc, label=\"min_sample_leaf=%d\" % s)\n",
    "plt.legend()"
   ]
  },
  {
   "cell_type": "markdown",
   "metadata": {},
   "source": [
    "# Based on these results, the best parameters would be:\n",
    "\n",
    "- n_estimators=100\n",
    "- max_depth=10\n",
    "- min_sample_leaf=1\n",
    "- With these parameters lets get the final auc score"
   ]
  },
  {
   "cell_type": "code",
   "execution_count": null,
   "metadata": {},
   "outputs": [],
   "source": [
    "rf = RandomForestClassifier(n_estimators=100, random_state=1, max_depth=10, min_samples_leaf=1)\n",
    "rf.fit(X_train, y_train)\n",
    "\n",
    "y_pred = rf.predict_proba(X_test)[:,1]\n",
    "roc_auc_score(y_test,y_pred)"
   ]
  },
  {
   "cell_type": "code",
   "execution_count": null,
   "metadata": {},
   "outputs": [],
   "source": [
    "import xgboost as xgb"
   ]
  },
  {
   "cell_type": "code",
   "execution_count": null,
   "metadata": {},
   "outputs": [],
   "source": [
    "import xgboost as xgb\n",
    "features = list(dv.get_feature_names_out())\n",
    "dtrain = xgb.DMatrix(X_train, label=y_train, feature_names=features)\n",
    "dtest = xgb.DMatrix(X_test, label=y_test, feature_names=features)"
   ]
  },
  {
   "cell_type": "code",
   "execution_count": null,
   "metadata": {},
   "outputs": [],
   "source": [
    "xgb_params = {\n",
    "    'eta': 0.3,\n",
    "    'max_depth': 6,\n",
    "    'min_child_weight': 1,\n",
    "\n",
    "    'objective': 'binary:logistic',\n",
    "    'nthread': 8,\n",
    "\n",
    "    'seed': 1,\n",
    "    'verbosity': 1,\n",
    "}\n",
    "\n",
    "model = xgb.train(xgb_params, dtrain, num_boost_round=10)"
   ]
  },
  {
   "cell_type": "code",
   "execution_count": null,
   "metadata": {},
   "outputs": [],
   "source": [
    "y_pred = model.predict(dtest)\n",
    "roc_auc_score(y_test, y_pred)"
   ]
  }
 ],
 "metadata": {
  "kernelspec": {
   "display_name": "Python 3 (ipykernel)",
   "language": "python",
   "name": "python3"
  },
  "language_info": {
   "codemirror_mode": {
    "name": "ipython",
    "version": 3
   },
   "file_extension": ".py",
   "mimetype": "text/x-python",
   "name": "python",
   "nbconvert_exporter": "python",
   "pygments_lexer": "ipython3",
   "version": "3.12.5"
  }
 },
 "nbformat": 4,
 "nbformat_minor": 4
}
