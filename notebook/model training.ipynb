{
 "cells": [
  {
   "cell_type": "code",
   "execution_count": null,
   "metadata": {},
   "outputs": [],
   "source": [
    "## Basic imports \n",
    "import pandas as pd\n",
    "import numpy as np\n",
    "import seaborn as sns\n",
    "import matplotlib.pyplot as plt\n",
    "import warnings\n",
    "warnings.filterwarnings('ignore')\n",
    "##modelling import\n",
    "from sklearn.linear_model import LogisticRegression\n",
    "from sklearn.metrics import confusion_matrix\n",
    "from sklearn.metrics import accuracy_score\n",
    "from sklearn.tree import DecisionTreeClassifier\n",
    "from sklearn.ensemble import RandomForestClassifier\n",
    " ##Pipeline imports\n",
    "from sklearn.compose import ColumnTransformer\n",
    "from sklearn.impute import SimpleImputer\n",
    "from sklearn.pipeline import Pipeline\n",
    "from sklearn.preprocessing import OneHotEncoder, StandardScaler, OrdinalEncoder\n"
   ]
  },
  {
   "cell_type": "code",
   "execution_count": 69,
   "metadata": {},
   "outputs": [
    {
     "data": {
      "text/html": [
       "<div>\n",
       "<style scoped>\n",
       "    .dataframe tbody tr th:only-of-type {\n",
       "        vertical-align: middle;\n",
       "    }\n",
       "\n",
       "    .dataframe tbody tr th {\n",
       "        vertical-align: top;\n",
       "    }\n",
       "\n",
       "    .dataframe thead th {\n",
       "        text-align: right;\n",
       "    }\n",
       "</style>\n",
       "<table border=\"1\" class=\"dataframe\">\n",
       "  <thead>\n",
       "    <tr style=\"text-align: right;\">\n",
       "      <th></th>\n",
       "      <th>Patient ID</th>\n",
       "      <th>Patient Name</th>\n",
       "      <th>Age</th>\n",
       "      <th>Gender</th>\n",
       "      <th>Hypertension</th>\n",
       "      <th>Heart Disease</th>\n",
       "      <th>Marital Status</th>\n",
       "      <th>Work Type</th>\n",
       "      <th>Residence Type</th>\n",
       "      <th>Average Glucose Level</th>\n",
       "      <th>...</th>\n",
       "      <th>Alcohol Intake</th>\n",
       "      <th>Physical Activity</th>\n",
       "      <th>Stroke History</th>\n",
       "      <th>Family History of Stroke</th>\n",
       "      <th>Dietary Habits</th>\n",
       "      <th>Stress Levels</th>\n",
       "      <th>Blood Pressure Levels</th>\n",
       "      <th>Cholesterol Levels</th>\n",
       "      <th>Symptoms</th>\n",
       "      <th>Diagnosis</th>\n",
       "    </tr>\n",
       "  </thead>\n",
       "  <tbody>\n",
       "    <tr>\n",
       "      <th>0</th>\n",
       "      <td>18153</td>\n",
       "      <td>Mamooty Khurana</td>\n",
       "      <td>56</td>\n",
       "      <td>Male</td>\n",
       "      <td>0</td>\n",
       "      <td>1</td>\n",
       "      <td>Married</td>\n",
       "      <td>Self-employed</td>\n",
       "      <td>Rural</td>\n",
       "      <td>130.91</td>\n",
       "      <td>...</td>\n",
       "      <td>Social Drinker</td>\n",
       "      <td>Moderate</td>\n",
       "      <td>0</td>\n",
       "      <td>Yes</td>\n",
       "      <td>Vegan</td>\n",
       "      <td>3.48</td>\n",
       "      <td>140/108</td>\n",
       "      <td>HDL: 68, LDL: 133</td>\n",
       "      <td>Difficulty Speaking, Headache</td>\n",
       "      <td>Stroke</td>\n",
       "    </tr>\n",
       "    <tr>\n",
       "      <th>1</th>\n",
       "      <td>62749</td>\n",
       "      <td>Kaira Subramaniam</td>\n",
       "      <td>80</td>\n",
       "      <td>Male</td>\n",
       "      <td>0</td>\n",
       "      <td>0</td>\n",
       "      <td>Single</td>\n",
       "      <td>Self-employed</td>\n",
       "      <td>Urban</td>\n",
       "      <td>183.73</td>\n",
       "      <td>...</td>\n",
       "      <td>Never</td>\n",
       "      <td>Low</td>\n",
       "      <td>0</td>\n",
       "      <td>No</td>\n",
       "      <td>Paleo</td>\n",
       "      <td>1.73</td>\n",
       "      <td>146/91</td>\n",
       "      <td>HDL: 63, LDL: 70</td>\n",
       "      <td>Loss of Balance, Headache, Dizziness, Confusion</td>\n",
       "      <td>Stroke</td>\n",
       "    </tr>\n",
       "    <tr>\n",
       "      <th>2</th>\n",
       "      <td>32145</td>\n",
       "      <td>Dhanush Balan</td>\n",
       "      <td>26</td>\n",
       "      <td>Male</td>\n",
       "      <td>1</td>\n",
       "      <td>1</td>\n",
       "      <td>Married</td>\n",
       "      <td>Never Worked</td>\n",
       "      <td>Rural</td>\n",
       "      <td>189.00</td>\n",
       "      <td>...</td>\n",
       "      <td>Rarely</td>\n",
       "      <td>High</td>\n",
       "      <td>0</td>\n",
       "      <td>Yes</td>\n",
       "      <td>Paleo</td>\n",
       "      <td>7.31</td>\n",
       "      <td>154/97</td>\n",
       "      <td>HDL: 59, LDL: 95</td>\n",
       "      <td>Seizures, Dizziness</td>\n",
       "      <td>Stroke</td>\n",
       "    </tr>\n",
       "    <tr>\n",
       "      <th>3</th>\n",
       "      <td>6154</td>\n",
       "      <td>Ivana Baral</td>\n",
       "      <td>73</td>\n",
       "      <td>Male</td>\n",
       "      <td>0</td>\n",
       "      <td>0</td>\n",
       "      <td>Married</td>\n",
       "      <td>Never Worked</td>\n",
       "      <td>Urban</td>\n",
       "      <td>185.29</td>\n",
       "      <td>...</td>\n",
       "      <td>Frequent Drinker</td>\n",
       "      <td>Moderate</td>\n",
       "      <td>0</td>\n",
       "      <td>No</td>\n",
       "      <td>Paleo</td>\n",
       "      <td>5.35</td>\n",
       "      <td>174/81</td>\n",
       "      <td>HDL: 70, LDL: 137</td>\n",
       "      <td>Seizures, Blurred Vision, Severe Fatigue, Head...</td>\n",
       "      <td>No Stroke</td>\n",
       "    </tr>\n",
       "    <tr>\n",
       "      <th>4</th>\n",
       "      <td>48973</td>\n",
       "      <td>Darshit Jayaraman</td>\n",
       "      <td>51</td>\n",
       "      <td>Male</td>\n",
       "      <td>1</td>\n",
       "      <td>1</td>\n",
       "      <td>Divorced</td>\n",
       "      <td>Self-employed</td>\n",
       "      <td>Urban</td>\n",
       "      <td>177.34</td>\n",
       "      <td>...</td>\n",
       "      <td>Rarely</td>\n",
       "      <td>Low</td>\n",
       "      <td>0</td>\n",
       "      <td>Yes</td>\n",
       "      <td>Pescatarian</td>\n",
       "      <td>6.84</td>\n",
       "      <td>121/95</td>\n",
       "      <td>HDL: 65, LDL: 68</td>\n",
       "      <td>Difficulty Speaking</td>\n",
       "      <td>Stroke</td>\n",
       "    </tr>\n",
       "  </tbody>\n",
       "</table>\n",
       "<p>5 rows × 22 columns</p>\n",
       "</div>"
      ],
      "text/plain": [
       "   Patient ID       Patient Name  Age Gender  Hypertension  Heart Disease  \\\n",
       "0       18153    Mamooty Khurana   56   Male             0              1   \n",
       "1       62749  Kaira Subramaniam   80   Male             0              0   \n",
       "2       32145      Dhanush Balan   26   Male             1              1   \n",
       "3        6154        Ivana Baral   73   Male             0              0   \n",
       "4       48973  Darshit Jayaraman   51   Male             1              1   \n",
       "\n",
       "  Marital Status      Work Type Residence Type  Average Glucose Level  ...  \\\n",
       "0        Married  Self-employed          Rural                 130.91  ...   \n",
       "1         Single  Self-employed          Urban                 183.73  ...   \n",
       "2        Married   Never Worked          Rural                 189.00  ...   \n",
       "3        Married   Never Worked          Urban                 185.29  ...   \n",
       "4       Divorced  Self-employed          Urban                 177.34  ...   \n",
       "\n",
       "     Alcohol Intake Physical Activity Stroke History Family History of Stroke  \\\n",
       "0    Social Drinker          Moderate              0                      Yes   \n",
       "1             Never               Low              0                       No   \n",
       "2            Rarely              High              0                      Yes   \n",
       "3  Frequent Drinker          Moderate              0                       No   \n",
       "4            Rarely               Low              0                      Yes   \n",
       "\n",
       "   Dietary Habits Stress Levels Blood Pressure Levels  Cholesterol Levels  \\\n",
       "0           Vegan          3.48               140/108   HDL: 68, LDL: 133   \n",
       "1           Paleo          1.73                146/91    HDL: 63, LDL: 70   \n",
       "2           Paleo          7.31                154/97    HDL: 59, LDL: 95   \n",
       "3           Paleo          5.35                174/81   HDL: 70, LDL: 137   \n",
       "4     Pescatarian          6.84                121/95    HDL: 65, LDL: 68   \n",
       "\n",
       "                                            Symptoms  Diagnosis  \n",
       "0                      Difficulty Speaking, Headache     Stroke  \n",
       "1    Loss of Balance, Headache, Dizziness, Confusion     Stroke  \n",
       "2                                Seizures, Dizziness     Stroke  \n",
       "3  Seizures, Blurred Vision, Severe Fatigue, Head...  No Stroke  \n",
       "4                                Difficulty Speaking     Stroke  \n",
       "\n",
       "[5 rows x 22 columns]"
      ]
     },
     "execution_count": 69,
     "metadata": {},
     "output_type": "execute_result"
    }
   ],
   "source": [
    "df=pd.read_csv('Data\\\\stroke_prediction_dataset.csv')\n",
    "df.head()"
   ]
  },
  {
   "cell_type": "code",
   "execution_count": 70,
   "metadata": {},
   "outputs": [
    {
     "data": {
      "text/plain": [
       "Index(['Patient ID', 'Patient Name', 'Age', 'Gender', 'Hypertension',\n",
       "       'Heart Disease', 'Marital Status', 'Work Type', 'Residence Type',\n",
       "       'Average Glucose Level', 'Body Mass Index (BMI)', 'Smoking Status',\n",
       "       'Alcohol Intake', 'Physical Activity', 'Stroke History',\n",
       "       'Family History of Stroke', 'Dietary Habits', 'Stress Levels',\n",
       "       'Blood Pressure Levels', 'Cholesterol Levels', 'Symptoms', 'Diagnosis'],\n",
       "      dtype='object')"
      ]
     },
     "execution_count": 70,
     "metadata": {},
     "output_type": "execute_result"
    }
   ],
   "source": [
    "df.columns"
   ]
  },
  {
   "cell_type": "code",
   "execution_count": 71,
   "metadata": {},
   "outputs": [
    {
     "data": {
      "text/plain": [
       "No Stroke    7532\n",
       "Stroke       7468\n",
       "Name: Diagnosis, dtype: int64"
      ]
     },
     "execution_count": 71,
     "metadata": {},
     "output_type": "execute_result"
    }
   ],
   "source": [
    "df.Diagnosis.value_counts()"
   ]
  },
  {
   "cell_type": "code",
   "execution_count": 72,
   "metadata": {},
   "outputs": [],
   "source": [
    "columns=['Patient ID','Patient Name','Marital Status','Residence Type','Stroke History','Heart Disease']\n",
    "df.drop(columns=columns,axis=1,inplace=True)"
   ]
  },
  {
   "cell_type": "code",
   "execution_count": 73,
   "metadata": {},
   "outputs": [
    {
     "data": {
      "text/html": [
       "<div>\n",
       "<style scoped>\n",
       "    .dataframe tbody tr th:only-of-type {\n",
       "        vertical-align: middle;\n",
       "    }\n",
       "\n",
       "    .dataframe tbody tr th {\n",
       "        vertical-align: top;\n",
       "    }\n",
       "\n",
       "    .dataframe thead th {\n",
       "        text-align: right;\n",
       "    }\n",
       "</style>\n",
       "<table border=\"1\" class=\"dataframe\">\n",
       "  <thead>\n",
       "    <tr style=\"text-align: right;\">\n",
       "      <th></th>\n",
       "      <th>Age</th>\n",
       "      <th>Gender</th>\n",
       "      <th>Hypertension</th>\n",
       "      <th>Work Type</th>\n",
       "      <th>Average Glucose Level</th>\n",
       "      <th>Body Mass Index (BMI)</th>\n",
       "      <th>Smoking Status</th>\n",
       "      <th>Alcohol Intake</th>\n",
       "      <th>Physical Activity</th>\n",
       "      <th>Family History of Stroke</th>\n",
       "      <th>Dietary Habits</th>\n",
       "      <th>Stress Levels</th>\n",
       "      <th>Blood Pressure Levels</th>\n",
       "      <th>Cholesterol Levels</th>\n",
       "      <th>Symptoms</th>\n",
       "      <th>Diagnosis</th>\n",
       "    </tr>\n",
       "  </thead>\n",
       "  <tbody>\n",
       "    <tr>\n",
       "      <th>0</th>\n",
       "      <td>56</td>\n",
       "      <td>Male</td>\n",
       "      <td>0</td>\n",
       "      <td>Self-employed</td>\n",
       "      <td>130.91</td>\n",
       "      <td>22.37</td>\n",
       "      <td>Non-smoker</td>\n",
       "      <td>Social Drinker</td>\n",
       "      <td>Moderate</td>\n",
       "      <td>Yes</td>\n",
       "      <td>Vegan</td>\n",
       "      <td>3.48</td>\n",
       "      <td>140/108</td>\n",
       "      <td>HDL: 68, LDL: 133</td>\n",
       "      <td>Difficulty Speaking, Headache</td>\n",
       "      <td>Stroke</td>\n",
       "    </tr>\n",
       "    <tr>\n",
       "      <th>1</th>\n",
       "      <td>80</td>\n",
       "      <td>Male</td>\n",
       "      <td>0</td>\n",
       "      <td>Self-employed</td>\n",
       "      <td>183.73</td>\n",
       "      <td>32.57</td>\n",
       "      <td>Non-smoker</td>\n",
       "      <td>Never</td>\n",
       "      <td>Low</td>\n",
       "      <td>No</td>\n",
       "      <td>Paleo</td>\n",
       "      <td>1.73</td>\n",
       "      <td>146/91</td>\n",
       "      <td>HDL: 63, LDL: 70</td>\n",
       "      <td>Loss of Balance, Headache, Dizziness, Confusion</td>\n",
       "      <td>Stroke</td>\n",
       "    </tr>\n",
       "    <tr>\n",
       "      <th>2</th>\n",
       "      <td>26</td>\n",
       "      <td>Male</td>\n",
       "      <td>1</td>\n",
       "      <td>Never Worked</td>\n",
       "      <td>189.00</td>\n",
       "      <td>20.32</td>\n",
       "      <td>Formerly Smoked</td>\n",
       "      <td>Rarely</td>\n",
       "      <td>High</td>\n",
       "      <td>Yes</td>\n",
       "      <td>Paleo</td>\n",
       "      <td>7.31</td>\n",
       "      <td>154/97</td>\n",
       "      <td>HDL: 59, LDL: 95</td>\n",
       "      <td>Seizures, Dizziness</td>\n",
       "      <td>Stroke</td>\n",
       "    </tr>\n",
       "    <tr>\n",
       "      <th>3</th>\n",
       "      <td>73</td>\n",
       "      <td>Male</td>\n",
       "      <td>0</td>\n",
       "      <td>Never Worked</td>\n",
       "      <td>185.29</td>\n",
       "      <td>27.50</td>\n",
       "      <td>Non-smoker</td>\n",
       "      <td>Frequent Drinker</td>\n",
       "      <td>Moderate</td>\n",
       "      <td>No</td>\n",
       "      <td>Paleo</td>\n",
       "      <td>5.35</td>\n",
       "      <td>174/81</td>\n",
       "      <td>HDL: 70, LDL: 137</td>\n",
       "      <td>Seizures, Blurred Vision, Severe Fatigue, Head...</td>\n",
       "      <td>No Stroke</td>\n",
       "    </tr>\n",
       "    <tr>\n",
       "      <th>4</th>\n",
       "      <td>51</td>\n",
       "      <td>Male</td>\n",
       "      <td>1</td>\n",
       "      <td>Self-employed</td>\n",
       "      <td>177.34</td>\n",
       "      <td>29.06</td>\n",
       "      <td>Currently Smokes</td>\n",
       "      <td>Rarely</td>\n",
       "      <td>Low</td>\n",
       "      <td>Yes</td>\n",
       "      <td>Pescatarian</td>\n",
       "      <td>6.84</td>\n",
       "      <td>121/95</td>\n",
       "      <td>HDL: 65, LDL: 68</td>\n",
       "      <td>Difficulty Speaking</td>\n",
       "      <td>Stroke</td>\n",
       "    </tr>\n",
       "    <tr>\n",
       "      <th>...</th>\n",
       "      <td>...</td>\n",
       "      <td>...</td>\n",
       "      <td>...</td>\n",
       "      <td>...</td>\n",
       "      <td>...</td>\n",
       "      <td>...</td>\n",
       "      <td>...</td>\n",
       "      <td>...</td>\n",
       "      <td>...</td>\n",
       "      <td>...</td>\n",
       "      <td>...</td>\n",
       "      <td>...</td>\n",
       "      <td>...</td>\n",
       "      <td>...</td>\n",
       "      <td>...</td>\n",
       "      <td>...</td>\n",
       "    </tr>\n",
       "    <tr>\n",
       "      <th>14995</th>\n",
       "      <td>88</td>\n",
       "      <td>Female</td>\n",
       "      <td>1</td>\n",
       "      <td>Self-employed</td>\n",
       "      <td>160.22</td>\n",
       "      <td>39.73</td>\n",
       "      <td>Currently Smokes</td>\n",
       "      <td>Social Drinker</td>\n",
       "      <td>High</td>\n",
       "      <td>No</td>\n",
       "      <td>Paleo</td>\n",
       "      <td>1.12</td>\n",
       "      <td>171/92</td>\n",
       "      <td>HDL: 44, LDL: 153</td>\n",
       "      <td>NaN</td>\n",
       "      <td>No Stroke</td>\n",
       "    </tr>\n",
       "    <tr>\n",
       "      <th>14996</th>\n",
       "      <td>47</td>\n",
       "      <td>Female</td>\n",
       "      <td>0</td>\n",
       "      <td>Private</td>\n",
       "      <td>107.58</td>\n",
       "      <td>22.17</td>\n",
       "      <td>Non-smoker</td>\n",
       "      <td>Never</td>\n",
       "      <td>Low</td>\n",
       "      <td>No</td>\n",
       "      <td>Gluten-Free</td>\n",
       "      <td>1.47</td>\n",
       "      <td>155/71</td>\n",
       "      <td>HDL: 35, LDL: 183</td>\n",
       "      <td>Difficulty Speaking</td>\n",
       "      <td>No Stroke</td>\n",
       "    </tr>\n",
       "    <tr>\n",
       "      <th>14997</th>\n",
       "      <td>35</td>\n",
       "      <td>Male</td>\n",
       "      <td>0</td>\n",
       "      <td>Government Job</td>\n",
       "      <td>134.90</td>\n",
       "      <td>26.38</td>\n",
       "      <td>Non-smoker</td>\n",
       "      <td>Rarely</td>\n",
       "      <td>High</td>\n",
       "      <td>No</td>\n",
       "      <td>Paleo</td>\n",
       "      <td>0.51</td>\n",
       "      <td>121/110</td>\n",
       "      <td>HDL: 57, LDL: 159</td>\n",
       "      <td>Difficulty Speaking, Severe Fatigue, Headache</td>\n",
       "      <td>Stroke</td>\n",
       "    </tr>\n",
       "    <tr>\n",
       "      <th>14998</th>\n",
       "      <td>73</td>\n",
       "      <td>Male</td>\n",
       "      <td>0</td>\n",
       "      <td>Self-employed</td>\n",
       "      <td>169.42</td>\n",
       "      <td>28.32</td>\n",
       "      <td>Non-smoker</td>\n",
       "      <td>Never</td>\n",
       "      <td>High</td>\n",
       "      <td>Yes</td>\n",
       "      <td>Paleo</td>\n",
       "      <td>1.53</td>\n",
       "      <td>157/74</td>\n",
       "      <td>HDL: 79, LDL: 91</td>\n",
       "      <td>Severe Fatigue, Numbness, Confusion, Dizziness...</td>\n",
       "      <td>No Stroke</td>\n",
       "    </tr>\n",
       "    <tr>\n",
       "      <th>14999</th>\n",
       "      <td>64</td>\n",
       "      <td>Female</td>\n",
       "      <td>0</td>\n",
       "      <td>Never Worked</td>\n",
       "      <td>186.88</td>\n",
       "      <td>39.30</td>\n",
       "      <td>Currently Smokes</td>\n",
       "      <td>Rarely</td>\n",
       "      <td>Moderate</td>\n",
       "      <td>No</td>\n",
       "      <td>Vegan</td>\n",
       "      <td>4.57</td>\n",
       "      <td>133/81</td>\n",
       "      <td>HDL: 78, LDL: 179</td>\n",
       "      <td>Headache</td>\n",
       "      <td>Stroke</td>\n",
       "    </tr>\n",
       "  </tbody>\n",
       "</table>\n",
       "<p>15000 rows × 16 columns</p>\n",
       "</div>"
      ],
      "text/plain": [
       "       Age  Gender  Hypertension       Work Type  Average Glucose Level  \\\n",
       "0       56    Male             0   Self-employed                 130.91   \n",
       "1       80    Male             0   Self-employed                 183.73   \n",
       "2       26    Male             1    Never Worked                 189.00   \n",
       "3       73    Male             0    Never Worked                 185.29   \n",
       "4       51    Male             1   Self-employed                 177.34   \n",
       "...    ...     ...           ...             ...                    ...   \n",
       "14995   88  Female             1   Self-employed                 160.22   \n",
       "14996   47  Female             0         Private                 107.58   \n",
       "14997   35    Male             0  Government Job                 134.90   \n",
       "14998   73    Male             0   Self-employed                 169.42   \n",
       "14999   64  Female             0    Never Worked                 186.88   \n",
       "\n",
       "       Body Mass Index (BMI)    Smoking Status    Alcohol Intake  \\\n",
       "0                      22.37        Non-smoker    Social Drinker   \n",
       "1                      32.57        Non-smoker             Never   \n",
       "2                      20.32   Formerly Smoked            Rarely   \n",
       "3                      27.50        Non-smoker  Frequent Drinker   \n",
       "4                      29.06  Currently Smokes            Rarely   \n",
       "...                      ...               ...               ...   \n",
       "14995                  39.73  Currently Smokes    Social Drinker   \n",
       "14996                  22.17        Non-smoker             Never   \n",
       "14997                  26.38        Non-smoker            Rarely   \n",
       "14998                  28.32        Non-smoker             Never   \n",
       "14999                  39.30  Currently Smokes            Rarely   \n",
       "\n",
       "      Physical Activity Family History of Stroke Dietary Habits  \\\n",
       "0              Moderate                      Yes          Vegan   \n",
       "1                   Low                       No          Paleo   \n",
       "2                  High                      Yes          Paleo   \n",
       "3              Moderate                       No          Paleo   \n",
       "4                   Low                      Yes    Pescatarian   \n",
       "...                 ...                      ...            ...   \n",
       "14995              High                       No          Paleo   \n",
       "14996               Low                       No    Gluten-Free   \n",
       "14997              High                       No          Paleo   \n",
       "14998              High                      Yes          Paleo   \n",
       "14999          Moderate                       No          Vegan   \n",
       "\n",
       "       Stress Levels Blood Pressure Levels Cholesterol Levels  \\\n",
       "0               3.48               140/108  HDL: 68, LDL: 133   \n",
       "1               1.73                146/91   HDL: 63, LDL: 70   \n",
       "2               7.31                154/97   HDL: 59, LDL: 95   \n",
       "3               5.35                174/81  HDL: 70, LDL: 137   \n",
       "4               6.84                121/95   HDL: 65, LDL: 68   \n",
       "...              ...                   ...                ...   \n",
       "14995           1.12                171/92  HDL: 44, LDL: 153   \n",
       "14996           1.47                155/71  HDL: 35, LDL: 183   \n",
       "14997           0.51               121/110  HDL: 57, LDL: 159   \n",
       "14998           1.53                157/74   HDL: 79, LDL: 91   \n",
       "14999           4.57                133/81  HDL: 78, LDL: 179   \n",
       "\n",
       "                                                Symptoms  Diagnosis  \n",
       "0                          Difficulty Speaking, Headache     Stroke  \n",
       "1        Loss of Balance, Headache, Dizziness, Confusion     Stroke  \n",
       "2                                    Seizures, Dizziness     Stroke  \n",
       "3      Seizures, Blurred Vision, Severe Fatigue, Head...  No Stroke  \n",
       "4                                    Difficulty Speaking     Stroke  \n",
       "...                                                  ...        ...  \n",
       "14995                                                NaN  No Stroke  \n",
       "14996                                Difficulty Speaking  No Stroke  \n",
       "14997      Difficulty Speaking, Severe Fatigue, Headache     Stroke  \n",
       "14998  Severe Fatigue, Numbness, Confusion, Dizziness...  No Stroke  \n",
       "14999                                           Headache     Stroke  \n",
       "\n",
       "[15000 rows x 16 columns]"
      ]
     },
     "execution_count": 73,
     "metadata": {},
     "output_type": "execute_result"
    }
   ],
   "source": [
    "df"
   ]
  },
  {
   "cell_type": "code",
   "execution_count": 74,
   "metadata": {},
   "outputs": [
    {
     "data": {
      "text/plain": [
       "No Stroke    50.213333\n",
       "Stroke       49.786667\n",
       "Name: Diagnosis, dtype: float64"
      ]
     },
     "execution_count": 74,
     "metadata": {},
     "output_type": "execute_result"
    }
   ],
   "source": [
    "df.Diagnosis.value_counts(normalize=True)*100"
   ]
  },
  {
   "cell_type": "code",
   "execution_count": 75,
   "metadata": {},
   "outputs": [],
   "source": [
    "df.Diagnosis = (df.Diagnosis.str.strip().str.lower() == 'Stroke').astype(int)\n"
   ]
  },
  {
   "cell_type": "code",
   "execution_count": 76,
   "metadata": {},
   "outputs": [],
   "source": [
    "X=df.drop('Diagnosis',axis=1)\n",
    "y=df[['Diagnosis']]"
   ]
  },
  {
   "cell_type": "code",
   "execution_count": 77,
   "metadata": {},
   "outputs": [
    {
     "data": {
      "text/plain": [
       "Diagnosis\n",
       "0            15000\n",
       "dtype: int64"
      ]
     },
     "execution_count": 77,
     "metadata": {},
     "output_type": "execute_result"
    }
   ],
   "source": [
    "y.value_counts()"
   ]
  },
  {
   "cell_type": "code",
   "execution_count": 78,
   "metadata": {},
   "outputs": [],
   "source": [
    "\n",
    "from sklearn.model_selection import train_test_split\n",
    "X_train, X_test, y_train, y_test = train_test_split(X, y, test_size=0.2, random_state=42)\n"
   ]
  },
  {
   "cell_type": "code",
   "execution_count": 79,
   "metadata": {},
   "outputs": [
    {
     "data": {
      "text/plain": [
       "Index(['Age', 'Hypertension', 'Average Glucose Level', 'Body Mass Index (BMI)',\n",
       "       'Stress Levels'],\n",
       "      dtype='object')"
      ]
     },
     "execution_count": 79,
     "metadata": {},
     "output_type": "execute_result"
    }
   ],
   "source": [
    "numerical_columns=X.select_dtypes(exclude='object').columns\n",
    "numerical_columns"
   ]
  },
  {
   "cell_type": "code",
   "execution_count": 80,
   "metadata": {},
   "outputs": [
    {
     "data": {
      "text/plain": [
       "Index(['Gender', 'Work Type', 'Smoking Status', 'Alcohol Intake',\n",
       "       'Physical Activity', 'Family History of Stroke', 'Dietary Habits',\n",
       "       'Blood Pressure Levels', 'Cholesterol Levels', 'Symptoms'],\n",
       "      dtype='object')"
      ]
     },
     "execution_count": 80,
     "metadata": {},
     "output_type": "execute_result"
    }
   ],
   "source": [
    "categorical_columns=X.select_dtypes(include='object').columns\n",
    "categorical_columns\n",
    "\n"
   ]
  },
  {
   "cell_type": "code",
   "execution_count": 81,
   "metadata": {},
   "outputs": [],
   "source": [
    "num_pipeline=Pipeline(\n",
    "    steps=[\n",
    "        ('scaler',StandardScaler()),\n",
    "        ('imputer',SimpleImputer(strategy='median'))\n",
    "    ]\n",
    ")\n",
    "cat_pipeline=Pipeline(\n",
    "    steps=[\n",
    "        ('imputer',SimpleImputer(strategy='most_frequent')),\n",
    "        ('onehot',OneHotEncoder(handle_unknown='ignore',sparse_output=False))\n",
    "        \n",
    "    ]\n",
    ")\n",
    "\n",
    "preprocessor=ColumnTransformer(\n",
    "    [\n",
    "        ('num_pipeline',num_pipeline,numerical_columns),\n",
    "        ('categorical_columns',cat_pipeline,categorical_columns)\n",
    "    ]\n",
    ")"
   ]
  },
  {
   "cell_type": "code",
   "execution_count": 82,
   "metadata": {},
   "outputs": [
    {
     "data": {
      "text/plain": [
       "array([[ 0.14127454,  1.73474931,  0.63758318, ...,  0.        ,\n",
       "         0.        ,  0.        ],\n",
       "       [ 0.23630759, -0.57645217,  1.4852178 , ...,  0.        ,\n",
       "         0.        ,  0.        ],\n",
       "       [-0.52395678, -0.57645217, -0.36304157, ...,  0.        ,\n",
       "         0.        ,  0.        ],\n",
       "       ...,\n",
       "       [-0.38140721,  1.73474931,  1.46467058, ...,  0.        ,\n",
       "         0.        ,  0.        ],\n",
       "       [-1.47428724,  1.73474931, -1.14606386, ...,  0.        ,\n",
       "         0.        ,  0.        ],\n",
       "       [ 0.33134063, -0.57645217, -1.10422675, ...,  0.        ,\n",
       "         0.        ,  0.        ]])"
      ]
     },
     "execution_count": 82,
     "metadata": {},
     "output_type": "execute_result"
    }
   ],
   "source": [
    "X_train=preprocessor.fit_transform(X_train)\n",
    "X_train"
   ]
  },
  {
   "cell_type": "code",
   "execution_count": 83,
   "metadata": {},
   "outputs": [
    {
     "data": {
      "text/plain": [
       "array([[ 0.80650586,  1.73474931,  0.27491241, ...,  0.        ,\n",
       "         0.        ,  0.        ],\n",
       "       [-0.95160548, -0.57645217, -1.44461741, ...,  0.        ,\n",
       "         0.        ,  0.        ],\n",
       "       [ 1.7093198 , -0.57645217,  1.66345873, ...,  0.        ,\n",
       "         0.        ,  0.        ],\n",
       "       ...,\n",
       "       [-0.90408896, -0.57645217,  1.35747847, ...,  0.        ,\n",
       "         0.        ,  0.        ],\n",
       "       [ 0.14127454,  1.73474931, -1.70975078, ...,  0.        ,\n",
       "         0.        ,  0.        ],\n",
       "       [-0.42892373, -0.57645217, -0.58212937, ...,  0.        ,\n",
       "         0.        ,  0.        ]])"
      ]
     },
     "execution_count": 83,
     "metadata": {},
     "output_type": "execute_result"
    }
   ],
   "source": [
    "X_test=preprocessor.transform(X_test)\n",
    "X_test"
   ]
  },
  {
   "cell_type": "code",
   "execution_count": 84,
   "metadata": {},
   "outputs": [
    {
     "ename": "ValueError",
     "evalue": "This solver needs samples of at least 2 classes in the data, but the data contains only one class: 0",
     "output_type": "error",
     "traceback": [
      "\u001b[1;31m---------------------------------------------------------------------------\u001b[0m",
      "\u001b[1;31mValueError\u001b[0m                                Traceback (most recent call last)",
      "\u001b[1;32m<ipython-input-84-f8de2efcab83>\u001b[0m in \u001b[0;36m<module>\u001b[1;34m\u001b[0m\n\u001b[0;32m      1\u001b[0m \u001b[0mmodel\u001b[0m\u001b[1;33m=\u001b[0m\u001b[0mLogisticRegression\u001b[0m\u001b[1;33m(\u001b[0m\u001b[0msolver\u001b[0m\u001b[1;33m=\u001b[0m\u001b[1;34m'liblinear'\u001b[0m\u001b[1;33m)\u001b[0m\u001b[1;33m\u001b[0m\u001b[1;33m\u001b[0m\u001b[0m\n\u001b[1;32m----> 2\u001b[1;33m \u001b[0mmodel\u001b[0m\u001b[1;33m.\u001b[0m\u001b[0mfit\u001b[0m\u001b[1;33m(\u001b[0m\u001b[0mX_train\u001b[0m\u001b[1;33m,\u001b[0m\u001b[0my_train\u001b[0m\u001b[1;33m)\u001b[0m\u001b[1;33m\u001b[0m\u001b[1;33m\u001b[0m\u001b[0m\n\u001b[0m\u001b[0;32m      3\u001b[0m \u001b[0my_pred\u001b[0m\u001b[1;33m=\u001b[0m\u001b[0mmodel\u001b[0m\u001b[1;33m.\u001b[0m\u001b[0mpredict\u001b[0m\u001b[1;33m(\u001b[0m\u001b[0mX_test\u001b[0m\u001b[1;33m)\u001b[0m\u001b[1;33m\u001b[0m\u001b[1;33m\u001b[0m\u001b[0m\n\u001b[0;32m      4\u001b[0m \u001b[0macc\u001b[0m\u001b[1;33m=\u001b[0m\u001b[0maccuracy_score\u001b[0m\u001b[1;33m(\u001b[0m\u001b[0my_test\u001b[0m\u001b[1;33m,\u001b[0m\u001b[0my_pred\u001b[0m\u001b[1;33m)\u001b[0m\u001b[1;33m\u001b[0m\u001b[1;33m\u001b[0m\u001b[0m\n\u001b[0;32m      5\u001b[0m \u001b[0macc\u001b[0m\u001b[1;33m=\u001b[0m\u001b[0mround\u001b[0m\u001b[1;33m(\u001b[0m\u001b[0macc\u001b[0m\u001b[1;33m,\u001b[0m\u001b[1;36m4\u001b[0m\u001b[1;33m)\u001b[0m\u001b[1;33m\u001b[0m\u001b[1;33m\u001b[0m\u001b[0m\n",
      "\u001b[1;32mc:\\Users\\UER\\anaconda3\\envs\\learn-env\\lib\\site-packages\\sklearn\\base.py\u001b[0m in \u001b[0;36mwrapper\u001b[1;34m(estimator, *args, **kwargs)\u001b[0m\n\u001b[0;32m   1150\u001b[0m                 )\n\u001b[0;32m   1151\u001b[0m             ):\n\u001b[1;32m-> 1152\u001b[1;33m                 \u001b[1;32mreturn\u001b[0m \u001b[0mfit_method\u001b[0m\u001b[1;33m(\u001b[0m\u001b[0mestimator\u001b[0m\u001b[1;33m,\u001b[0m \u001b[1;33m*\u001b[0m\u001b[0margs\u001b[0m\u001b[1;33m,\u001b[0m \u001b[1;33m**\u001b[0m\u001b[0mkwargs\u001b[0m\u001b[1;33m)\u001b[0m\u001b[1;33m\u001b[0m\u001b[1;33m\u001b[0m\u001b[0m\n\u001b[0m\u001b[0;32m   1153\u001b[0m \u001b[1;33m\u001b[0m\u001b[0m\n\u001b[0;32m   1154\u001b[0m         \u001b[1;32mreturn\u001b[0m \u001b[0mwrapper\u001b[0m\u001b[1;33m\u001b[0m\u001b[1;33m\u001b[0m\u001b[0m\n",
      "\u001b[1;32mc:\\Users\\UER\\anaconda3\\envs\\learn-env\\lib\\site-packages\\sklearn\\linear_model\\_logistic.py\u001b[0m in \u001b[0;36mfit\u001b[1;34m(self, X, y, sample_weight)\u001b[0m\n\u001b[0;32m   1226\u001b[0m                     \u001b[1;34m\" = {}.\"\u001b[0m\u001b[1;33m.\u001b[0m\u001b[0mformat\u001b[0m\u001b[1;33m(\u001b[0m\u001b[0meffective_n_jobs\u001b[0m\u001b[1;33m(\u001b[0m\u001b[0mself\u001b[0m\u001b[1;33m.\u001b[0m\u001b[0mn_jobs\u001b[0m\u001b[1;33m)\u001b[0m\u001b[1;33m)\u001b[0m\u001b[1;33m\u001b[0m\u001b[1;33m\u001b[0m\u001b[0m\n\u001b[0;32m   1227\u001b[0m                 )\n\u001b[1;32m-> 1228\u001b[1;33m             self.coef_, self.intercept_, self.n_iter_ = _fit_liblinear(\n\u001b[0m\u001b[0;32m   1229\u001b[0m                 \u001b[0mX\u001b[0m\u001b[1;33m,\u001b[0m\u001b[1;33m\u001b[0m\u001b[1;33m\u001b[0m\u001b[0m\n\u001b[0;32m   1230\u001b[0m                 \u001b[0my\u001b[0m\u001b[1;33m,\u001b[0m\u001b[1;33m\u001b[0m\u001b[1;33m\u001b[0m\u001b[0m\n",
      "\u001b[1;32mc:\\Users\\UER\\anaconda3\\envs\\learn-env\\lib\\site-packages\\sklearn\\svm\\_base.py\u001b[0m in \u001b[0;36m_fit_liblinear\u001b[1;34m(X, y, C, fit_intercept, intercept_scaling, class_weight, penalty, dual, verbose, max_iter, tol, random_state, multi_class, loss, epsilon, sample_weight)\u001b[0m\n\u001b[0;32m   1185\u001b[0m         \u001b[0mclasses_\u001b[0m \u001b[1;33m=\u001b[0m \u001b[0menc\u001b[0m\u001b[1;33m.\u001b[0m\u001b[0mclasses_\u001b[0m\u001b[1;33m\u001b[0m\u001b[1;33m\u001b[0m\u001b[0m\n\u001b[0;32m   1186\u001b[0m         \u001b[1;32mif\u001b[0m \u001b[0mlen\u001b[0m\u001b[1;33m(\u001b[0m\u001b[0mclasses_\u001b[0m\u001b[1;33m)\u001b[0m \u001b[1;33m<\u001b[0m \u001b[1;36m2\u001b[0m\u001b[1;33m:\u001b[0m\u001b[1;33m\u001b[0m\u001b[1;33m\u001b[0m\u001b[0m\n\u001b[1;32m-> 1187\u001b[1;33m             raise ValueError(\n\u001b[0m\u001b[0;32m   1188\u001b[0m                 \u001b[1;34m\"This solver needs samples of at least 2 classes\"\u001b[0m\u001b[1;33m\u001b[0m\u001b[1;33m\u001b[0m\u001b[0m\n\u001b[0;32m   1189\u001b[0m                 \u001b[1;34m\" in the data, but the data contains only one\"\u001b[0m\u001b[1;33m\u001b[0m\u001b[1;33m\u001b[0m\u001b[0m\n",
      "\u001b[1;31mValueError\u001b[0m: This solver needs samples of at least 2 classes in the data, but the data contains only one class: 0"
     ]
    }
   ],
   "source": [
    "\n",
    "model=LogisticRegression(solver='liblinear')\n",
    "model.fit(X_train,y_train)\n",
    "y_pred=model.predict(X_test)\n",
    "acc=accuracy_score(y_test,y_pred)\n",
    "acc=round(acc,4)\n",
    "acc"
   ]
  },
  {
   "cell_type": "code",
   "execution_count": null,
   "metadata": {},
   "outputs": [
    {
     "data": {
      "text/plain": [
       "0.8517809139784946"
      ]
     },
     "execution_count": 86,
     "metadata": {},
     "output_type": "execute_result"
    }
   ],
   "source": [
    "from sklearn.metrics import roc_auc_score\n",
    "y_pred=model.predict_proba(X_test)[:,1]\n",
    "auc=roc_auc_score(y_test,y_pred)\n",
    "auc\n"
   ]
  },
  {
   "cell_type": "code",
   "execution_count": null,
   "metadata": {},
   "outputs": [
    {
     "data": {
      "text/plain": [
       "0.9545009784735812"
      ]
     },
     "execution_count": 87,
     "metadata": {},
     "output_type": "execute_result"
    }
   ],
   "source": [
    "y_pred_train=model.predict(X_train)\n",
    "acc_train=accuracy_score(y_train,y_pred_train)\n",
    "acc_train\n"
   ]
  },
  {
   "cell_type": "markdown",
   "metadata": {},
   "source": [
    "# Check for overfitting and underfitting"
   ]
  },
  {
   "cell_type": "code",
   "execution_count": null,
   "metadata": {},
   "outputs": [
    {
     "name": "stdout",
     "output_type": "stream",
     "text": [
      "testing accuracy score:0.9393\n",
      "training accuracy score:0.9545009784735812\n"
     ]
    }
   ],
   "source": [
    "print(f'testing accuracy score:{acc}')\n",
    "print(f'training accuracy score:{acc_train}')\n",
    "\n"
   ]
  },
  {
   "cell_type": "markdown",
   "metadata": {},
   "source": [
    "# There is overfiiting in our model"
   ]
  },
  {
   "cell_type": "code",
   "execution_count": null,
   "metadata": {},
   "outputs": [
    {
     "data": {
      "text/plain": [
       "0.9393"
      ]
     },
     "execution_count": 89,
     "metadata": {},
     "output_type": "execute_result"
    }
   ],
   "source": [
    "model=LogisticRegression(C=0.01,solver='liblinear')\n",
    "model.fit(X_train,y_train)\n",
    "y_pred=model.predict(X_test)\n",
    "acc=accuracy_score(y_test,y_pred)\n",
    "acc=round(acc,4)\n",
    "acc"
   ]
  },
  {
   "cell_type": "markdown",
   "metadata": {},
   "source": [
    "# Compare model accuracy with null accuracy"
   ]
  },
  {
   "cell_type": "code",
   "execution_count": null,
   "metadata": {},
   "outputs": [
    {
     "data": {
      "text/plain": [
       "0    4861\n",
       "1     249\n",
       "Name: stroke, dtype: int64"
      ]
     },
     "execution_count": 91,
     "metadata": {},
     "output_type": "execute_result"
    }
   ],
   "source": [
    "df.stroke.value_counts()"
   ]
  },
  {
   "cell_type": "code",
   "execution_count": null,
   "metadata": {},
   "outputs": [
    {
     "data": {
      "text/plain": [
       "0.9513"
      ]
     },
     "execution_count": 92,
     "metadata": {},
     "output_type": "execute_result"
    }
   ],
   "source": [
    "null_accuracy=4861/(4861+249)\n",
    "round(null_accuracy,4)"
   ]
  },
  {
   "cell_type": "markdown",
   "metadata": {},
   "source": [
    "## We can see that our model accuracy score is 0.4923 but null accuracy score is 0.5021. So, we can conclude that our Logistic Regression model is doing a very good job in predicting the class labels.\n",
    "\n",
    "Now, based on the above analysis we can conclude that our classification model accuracy is very good. Our model is doing a very good job in terms of predicting the class labels.\n",
    "\n",
    "But, it does not give the underlying distribution of values. Also, it does not tell anything about the type of errors our classifer is making.\n",
    "\n",
    "We have another tool called Confusion matrix that comes to our rescue."
   ]
  },
  {
   "cell_type": "code",
   "execution_count": null,
   "metadata": {},
   "outputs": [
    {
     "data": {
      "text/plain": [
       "array([[960,   0],\n",
       "       [ 62,   0]], dtype=int64)"
      ]
     },
     "execution_count": 93,
     "metadata": {},
     "output_type": "execute_result"
    }
   ],
   "source": [
    "from sklearn.metrics import confusion_matrix\n",
    "cm=confusion_matrix(y_test,y_pred)\n",
    "cm"
   ]
  },
  {
   "cell_type": "code",
   "execution_count": null,
   "metadata": {},
   "outputs": [],
   "source": [
    "TP=878\n",
    "TN=642\n",
    "FP=603\n",
    "FN=877"
   ]
  },
  {
   "cell_type": "markdown",
   "metadata": {},
   "source": [
    "# Decision Trees\n",
    "First we are going to get the default model performance and then we are going to tune it using the following parameters:\n",
    "\n",
    "- max_depth\n",
    "- min_samples_leaf"
   ]
  },
  {
   "cell_type": "code",
   "execution_count": null,
   "metadata": {},
   "outputs": [],
   "source": [
    "\n",
    "dt=DecisionTreeClassifier()\n",
    "dt.fit(X_train,y_train)\n",
    "y_pred=dt.predict_proba(X_test)[:,1]\n",
    "auc=roc_auc_score(y_test,y_pred)"
   ]
  },
  {
   "cell_type": "code",
   "execution_count": null,
   "metadata": {},
   "outputs": [
    {
     "data": {
      "text/plain": [
       "0.5894657258064516"
      ]
     },
     "execution_count": 96,
     "metadata": {},
     "output_type": "execute_result"
    }
   ],
   "source": [
    "auc"
   ]
  },
  {
   "cell_type": "code",
   "execution_count": null,
   "metadata": {},
   "outputs": [
    {
     "name": "stdout",
     "output_type": "stream",
     "text": [
      "2 0.18834005376344085\n",
      "3 0.19789146505376345\n",
      "4 0.2124915994623656\n",
      "5 0.1982862903225806\n",
      "6 0.2179939516129032\n"
     ]
    }
   ],
   "source": [
    "depths = [2, 3, 4, 5, 6]\n",
    "for d in depths:\n",
    "    dt=DecisionTreeClassifier(max_depth=d,random_state=1)\n",
    "    dt.fit(X_train,y_train)\n",
    "    y_pred=dt.predict_proba(X_test)[:,0]\n",
    "    score=roc_auc_score(y_test,y_pred)\n",
    "    print(d,score)\n",
    "    "
   ]
  },
  {
   "cell_type": "code",
   "execution_count": null,
   "metadata": {},
   "outputs": [],
   "source": [
    "depths = [2,3,4]\n",
    "sample_leafs = [1, 2, 5, 10, 15, 20, 100, 200, 500]\n",
    "scores=[]\n",
    "for d in depths:\n",
    "    for s in sample_leafs:\n",
    "        dt=DecisionTreeClassifier(max_depth=d,min_samples_leaf=s)\n",
    "        dt.fit(X_train,y_train)\n",
    "        y_pred=dt.predict_proba(X_test)[:,1]\n",
    "        score=roc_auc_score(y_test,y_pred)\n",
    "        scores.append((d,s,round(score,4)))"
   ]
  },
  {
   "cell_type": "code",
   "execution_count": null,
   "metadata": {},
   "outputs": [
    {
     "data": {
      "text/plain": [
       "<AxesSubplot:xlabel='depth', ylabel='leaf'>"
      ]
     },
     "execution_count": 99,
     "metadata": {},
     "output_type": "execute_result"
    },
    {
     "data": {
      "image/png": "[encoded data removed]",
      "text/plain": [
       "<Figure size 432x288 with 2 Axes>"
      ]
     },
     "metadata": {
      "needs_background": "light"
     },
     "output_type": "display_data"
    }
   ],
   "source": [
    "df_scores=pd.DataFrame(scores,columns=['depth','leaf','score'])\n",
    "sns.heatmap(df_scores.pivot(index='leaf',columns='depth',values='score'),fmt='.3f',annot=True)"
   ]
  },
  {
   "cell_type": "code",
   "execution_count": null,
   "metadata": {},
   "outputs": [
    {
     "data": {
      "text/plain": [
       "0.7267137096774193"
      ]
     },
     "execution_count": 100,
     "metadata": {},
     "output_type": "execute_result"
    }
   ],
   "source": [
    "from sklearn.ensemble import RandomForestClassifier\n",
    "rf=RandomForestClassifier(n_estimators=10)\n",
    "rf.fit(X_train,y_train)\n",
    "y_pred=rf.predict_proba(X_test)[:,1]\n",
    "score=roc_auc_score(y_test,y_pred)\n",
    "score"
   ]
  },
  {
   "cell_type": "code",
   "execution_count": null,
   "metadata": {},
   "outputs": [],
   "source": [
    "scores=[]\n",
    "for e in range(10,201,10):\n",
    "    rf=RandomForestClassifier(n_estimators=e,n_jobs=-1)\n",
    "    rf.fit(X_train,y_train)\n",
    "    y_pred=rf.predict_proba(X_test)[:,1]\n",
    "    auc=roc_auc_score(y_test,y_pred)\n",
    "    scores.append((e,round(auc,2)))\n",
    "    "
   ]
  },
  {
   "cell_type": "code",
   "execution_count": null,
   "metadata": {},
   "outputs": [
    {
     "data": {
      "text/html": [
       "<div>\n",
       "<style scoped>\n",
       "    .dataframe tbody tr th:only-of-type {\n",
       "        vertical-align: middle;\n",
       "    }\n",
       "\n",
       "    .dataframe tbody tr th {\n",
       "        vertical-align: top;\n",
       "    }\n",
       "\n",
       "    .dataframe thead th {\n",
       "        text-align: right;\n",
       "    }\n",
       "</style>\n",
       "<table border=\"1\" class=\"dataframe\">\n",
       "  <thead>\n",
       "    <tr style=\"text-align: right;\">\n",
       "      <th></th>\n",
       "      <th>n_estimatores</th>\n",
       "      <th>auc</th>\n",
       "    </tr>\n",
       "  </thead>\n",
       "  <tbody>\n",
       "    <tr>\n",
       "      <th>0</th>\n",
       "      <td>10</td>\n",
       "      <td>0.48</td>\n",
       "    </tr>\n",
       "    <tr>\n",
       "      <th>1</th>\n",
       "      <td>20</td>\n",
       "      <td>0.50</td>\n",
       "    </tr>\n",
       "    <tr>\n",
       "      <th>2</th>\n",
       "      <td>30</td>\n",
       "      <td>0.50</td>\n",
       "    </tr>\n",
       "    <tr>\n",
       "      <th>3</th>\n",
       "      <td>40</td>\n",
       "      <td>0.50</td>\n",
       "    </tr>\n",
       "    <tr>\n",
       "      <th>4</th>\n",
       "      <td>50</td>\n",
       "      <td>0.50</td>\n",
       "    </tr>\n",
       "    <tr>\n",
       "      <th>5</th>\n",
       "      <td>60</td>\n",
       "      <td>0.51</td>\n",
       "    </tr>\n",
       "    <tr>\n",
       "      <th>6</th>\n",
       "      <td>70</td>\n",
       "      <td>0.51</td>\n",
       "    </tr>\n",
       "    <tr>\n",
       "      <th>7</th>\n",
       "      <td>80</td>\n",
       "      <td>0.50</td>\n",
       "    </tr>\n",
       "    <tr>\n",
       "      <th>8</th>\n",
       "      <td>90</td>\n",
       "      <td>0.50</td>\n",
       "    </tr>\n",
       "    <tr>\n",
       "      <th>9</th>\n",
       "      <td>100</td>\n",
       "      <td>0.50</td>\n",
       "    </tr>\n",
       "    <tr>\n",
       "      <th>10</th>\n",
       "      <td>110</td>\n",
       "      <td>0.50</td>\n",
       "    </tr>\n",
       "    <tr>\n",
       "      <th>11</th>\n",
       "      <td>120</td>\n",
       "      <td>0.51</td>\n",
       "    </tr>\n",
       "    <tr>\n",
       "      <th>12</th>\n",
       "      <td>130</td>\n",
       "      <td>0.51</td>\n",
       "    </tr>\n",
       "    <tr>\n",
       "      <th>13</th>\n",
       "      <td>140</td>\n",
       "      <td>0.51</td>\n",
       "    </tr>\n",
       "    <tr>\n",
       "      <th>14</th>\n",
       "      <td>150</td>\n",
       "      <td>0.51</td>\n",
       "    </tr>\n",
       "    <tr>\n",
       "      <th>15</th>\n",
       "      <td>160</td>\n",
       "      <td>0.50</td>\n",
       "    </tr>\n",
       "    <tr>\n",
       "      <th>16</th>\n",
       "      <td>170</td>\n",
       "      <td>0.51</td>\n",
       "    </tr>\n",
       "    <tr>\n",
       "      <th>17</th>\n",
       "      <td>180</td>\n",
       "      <td>0.50</td>\n",
       "    </tr>\n",
       "    <tr>\n",
       "      <th>18</th>\n",
       "      <td>190</td>\n",
       "      <td>0.52</td>\n",
       "    </tr>\n",
       "    <tr>\n",
       "      <th>19</th>\n",
       "      <td>200</td>\n",
       "      <td>0.52</td>\n",
       "    </tr>\n",
       "  </tbody>\n",
       "</table>\n",
       "</div>"
      ],
      "text/plain": [
       "    n_estimatores   auc\n",
       "0              10  0.48\n",
       "1              20  0.50\n",
       "2              30  0.50\n",
       "3              40  0.50\n",
       "4              50  0.50\n",
       "5              60  0.51\n",
       "6              70  0.51\n",
       "7              80  0.50\n",
       "8              90  0.50\n",
       "9             100  0.50\n",
       "10            110  0.50\n",
       "11            120  0.51\n",
       "12            130  0.51\n",
       "13            140  0.51\n",
       "14            150  0.51\n",
       "15            160  0.50\n",
       "16            170  0.51\n",
       "17            180  0.50\n",
       "18            190  0.52\n",
       "19            200  0.52"
      ]
     },
     "execution_count": 61,
     "metadata": {},
     "output_type": "execute_result"
    }
   ],
   "source": [
    "df_scores=pd.DataFrame(scores,columns=['n_estimatores','auc'])\n",
    "df_scores"
   ]
  },
  {
   "cell_type": "code",
   "execution_count": null,
   "metadata": {},
   "outputs": [
    {
     "data": {
      "text/plain": [
       "[<matplotlib.lines.Line2D at 0x1b78ac8cfd0>]"
      ]
     },
     "execution_count": 62,
     "metadata": {},
     "output_type": "execute_result"
    },
    {
     "data": {
      "image/png": "[encoded data removed]",
      "text/plain": [
       "<Figure size 432x288 with 1 Axes>"
      ]
     },
     "metadata": {
      "needs_background": "light"
     },
     "output_type": "display_data"
    }
   ],
   "source": [
    "plt.plot(df_scores.n_estimatores,df_scores.auc)"
   ]
  },
  {
   "cell_type": "markdown",
   "metadata": {},
   "source": [
    "## Looking at the results table and the chart we see that a n_estimator=50 would be ideal, since after that there is no real considerable impact over the auc score.\n",
    "\n",
    "- Now we can tune the max_depth parameter"
   ]
  },
  {
   "cell_type": "code",
   "execution_count": null,
   "metadata": {},
   "outputs": [
    {
     "data": {
      "text/html": [
       "<div>\n",
       "<style scoped>\n",
       "    .dataframe tbody tr th:only-of-type {\n",
       "        vertical-align: middle;\n",
       "    }\n",
       "\n",
       "    .dataframe tbody tr th {\n",
       "        vertical-align: top;\n",
       "    }\n",
       "\n",
       "    .dataframe thead th {\n",
       "        text-align: right;\n",
       "    }\n",
       "</style>\n",
       "<table border=\"1\" class=\"dataframe\">\n",
       "  <thead>\n",
       "    <tr style=\"text-align: right;\">\n",
       "      <th></th>\n",
       "      <th>depth</th>\n",
       "      <th>auc</th>\n",
       "    </tr>\n",
       "  </thead>\n",
       "  <tbody>\n",
       "    <tr>\n",
       "      <th>0</th>\n",
       "      <td>5</td>\n",
       "      <td>0.514352</td>\n",
       "    </tr>\n",
       "    <tr>\n",
       "      <th>1</th>\n",
       "      <td>6</td>\n",
       "      <td>0.517625</td>\n",
       "    </tr>\n",
       "    <tr>\n",
       "      <th>2</th>\n",
       "      <td>7</td>\n",
       "      <td>0.529752</td>\n",
       "    </tr>\n",
       "    <tr>\n",
       "      <th>3</th>\n",
       "      <td>10</td>\n",
       "      <td>0.513145</td>\n",
       "    </tr>\n",
       "    <tr>\n",
       "      <th>4</th>\n",
       "      <td>15</td>\n",
       "      <td>0.515432</td>\n",
       "    </tr>\n",
       "  </tbody>\n",
       "</table>\n",
       "</div>"
      ],
      "text/plain": [
       "   depth       auc\n",
       "0      5  0.514352\n",
       "1      6  0.517625\n",
       "2      7  0.529752\n",
       "3     10  0.513145\n",
       "4     15  0.515432"
      ]
     },
     "execution_count": 65,
     "metadata": {},
     "output_type": "execute_result"
    }
   ],
   "source": [
    "scores = []\n",
    "\n",
    "for d in [5, 6, 7, 10, 15]:\n",
    "        rf = RandomForestClassifier(n_estimators=50, random_state=1, max_depth=d)\n",
    "        rf.fit(X_train, y_train)\n",
    "        \n",
    "        y_pred = rf.predict_proba(X_test)[:,1]\n",
    "        auc = roc_auc_score(y_test, y_pred)\n",
    "        scores.append((d,auc))\n",
    "\n",
    "df_scores = pd.DataFrame(scores, columns=['depth','auc'])\n",
    "df_scores"
   ]
  },
  {
   "cell_type": "code",
   "execution_count": null,
   "metadata": {},
   "outputs": [],
   "source": [
    "for d in [5, 6, 7, 10, 15]:\n",
    "    df_subset = df_scores[df_scores.depth == d]\n",
    "    plt.plot(df_subset.n_estimators, df_subset.auc, label=\"max_depth=%d\" % d)\n",
    "plt.legend()"
   ]
  },
  {
   "cell_type": "markdown",
   "metadata": {},
   "source": [
    "- Based on this result we clearly see that a max_depth=10 is the best option.\n",
    "\n",
    "- Final step: tune the min_sample_leaf parameter"
   ]
  },
  {
   "cell_type": "code",
   "execution_count": null,
   "metadata": {},
   "outputs": [
    {
     "data": {
      "text/html": [
       "<div>\n",
       "<style scoped>\n",
       "    .dataframe tbody tr th:only-of-type {\n",
       "        vertical-align: middle;\n",
       "    }\n",
       "\n",
       "    .dataframe tbody tr th {\n",
       "        vertical-align: top;\n",
       "    }\n",
       "\n",
       "    .dataframe thead th {\n",
       "        text-align: right;\n",
       "    }\n",
       "</style>\n",
       "<table border=\"1\" class=\"dataframe\">\n",
       "  <thead>\n",
       "    <tr style=\"text-align: right;\">\n",
       "      <th></th>\n",
       "      <th>sample_leaf</th>\n",
       "      <th>auc</th>\n",
       "    </tr>\n",
       "  </thead>\n",
       "  <tbody>\n",
       "    <tr>\n",
       "      <th>0</th>\n",
       "      <td>1</td>\n",
       "      <td>0.513145</td>\n",
       "    </tr>\n",
       "    <tr>\n",
       "      <th>1</th>\n",
       "      <td>5</td>\n",
       "      <td>0.498929</td>\n",
       "    </tr>\n",
       "    <tr>\n",
       "      <th>2</th>\n",
       "      <td>10</td>\n",
       "      <td>0.508822</td>\n",
       "    </tr>\n",
       "    <tr>\n",
       "      <th>3</th>\n",
       "      <td>20</td>\n",
       "      <td>0.503775</td>\n",
       "    </tr>\n",
       "    <tr>\n",
       "      <th>4</th>\n",
       "      <td>50</td>\n",
       "      <td>0.509070</td>\n",
       "    </tr>\n",
       "  </tbody>\n",
       "</table>\n",
       "</div>"
      ],
      "text/plain": [
       "   sample_leaf       auc\n",
       "0            1  0.513145\n",
       "1            5  0.498929\n",
       "2           10  0.508822\n",
       "3           20  0.503775\n",
       "4           50  0.509070"
      ]
     },
     "execution_count": 66,
     "metadata": {},
     "output_type": "execute_result"
    }
   ],
   "source": [
    "scores = []\n",
    "\n",
    "for s in [1, 5, 10, 20, 50]:\n",
    "        rf = RandomForestClassifier(n_estimators=50, random_state=1, max_depth=10, min_samples_leaf=s)\n",
    "        rf.fit(X_train, y_train)\n",
    "        \n",
    "        y_pred = rf.predict_proba(X_test)[:,1]\n",
    "        auc = roc_auc_score(y_test, y_pred)\n",
    "        scores.append((s, auc))\n",
    "\n",
    "df_scores = pd.DataFrame(scores, columns=['sample_leaf', 'auc'])\n",
    "df_scores"
   ]
  },
  {
   "cell_type": "code",
   "execution_count": null,
   "metadata": {},
   "outputs": [],
   "source": []
  }
 ],
 "metadata": {
  "kernelspec": {
   "display_name": "Python (learn-env)",
   "language": "python",
   "name": "learn-env"
  },
  "language_info": {
   "codemirror_mode": {
    "name": "ipython",
    "version": 3
   },
   "file_extension": ".py",
   "mimetype": "text/x-python",
   "name": "python",
   "nbconvert_exporter": "python",
   "pygments_lexer": "ipython3",
   "version": "3.8.5"
  }
 },
 "nbformat": 4,
 "nbformat_minor": 2
}
